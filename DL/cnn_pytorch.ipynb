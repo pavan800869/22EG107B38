{
 "cells": [
  {
   "cell_type": "markdown",
   "id": "95261174",
   "metadata": {},
   "source": [
    "## Load Libraries"
   ]
  },
  {
   "cell_type": "code",
   "execution_count": 14,
   "id": "26f52dee",
   "metadata": {},
   "outputs": [
    {
     "name": "stdout",
     "output_type": "stream",
     "text": [
      "Requirement already satisfied: torch in ./lib/python3.10/site-packages (2.7.1)\n",
      "Requirement already satisfied: filelock in ./lib/python3.10/site-packages (from torch) (3.18.0)\n",
      "Requirement already satisfied: typing-extensions>=4.10.0 in ./lib/python3.10/site-packages (from torch) (4.14.1)\n",
      "Requirement already satisfied: sympy>=1.13.3 in ./lib/python3.10/site-packages (from torch) (1.14.0)\n",
      "Requirement already satisfied: networkx in ./lib/python3.10/site-packages (from torch) (3.4.2)\n",
      "Requirement already satisfied: jinja2 in ./lib/python3.10/site-packages (from torch) (3.1.6)\n",
      "Requirement already satisfied: fsspec in ./lib/python3.10/site-packages (from torch) (2025.7.0)\n",
      "Requirement already satisfied: mpmath<1.4,>=1.1.0 in ./lib/python3.10/site-packages (from sympy>=1.13.3->torch) (1.3.0)\n",
      "Requirement already satisfied: MarkupSafe>=2.0 in ./lib/python3.10/site-packages (from jinja2->torch) (3.0.2)\n",
      "Note: you may need to restart the kernel to use updated packages.\n",
      "Requirement already satisfied: torchvision in ./lib/python3.10/site-packages (0.22.1)\n",
      "Requirement already satisfied: numpy in ./lib/python3.10/site-packages (from torchvision) (2.1.3)\n",
      "Requirement already satisfied: torch==2.7.1 in ./lib/python3.10/site-packages (from torchvision) (2.7.1)\n",
      "Requirement already satisfied: pillow!=8.3.*,>=5.3.0 in ./lib/python3.10/site-packages (from torchvision) (11.3.0)\n",
      "Requirement already satisfied: filelock in ./lib/python3.10/site-packages (from torch==2.7.1->torchvision) (3.18.0)\n",
      "Requirement already satisfied: typing-extensions>=4.10.0 in ./lib/python3.10/site-packages (from torch==2.7.1->torchvision) (4.14.1)\n",
      "Requirement already satisfied: sympy>=1.13.3 in ./lib/python3.10/site-packages (from torch==2.7.1->torchvision) (1.14.0)\n",
      "Requirement already satisfied: networkx in ./lib/python3.10/site-packages (from torch==2.7.1->torchvision) (3.4.2)\n",
      "Requirement already satisfied: jinja2 in ./lib/python3.10/site-packages (from torch==2.7.1->torchvision) (3.1.6)\n",
      "Requirement already satisfied: fsspec in ./lib/python3.10/site-packages (from torch==2.7.1->torchvision) (2025.7.0)\n",
      "Requirement already satisfied: mpmath<1.4,>=1.1.0 in ./lib/python3.10/site-packages (from sympy>=1.13.3->torch==2.7.1->torchvision) (1.3.0)\n",
      "Requirement already satisfied: MarkupSafe>=2.0 in ./lib/python3.10/site-packages (from jinja2->torch==2.7.1->torchvision) (3.0.2)\n",
      "Note: you may need to restart the kernel to use updated packages.\n",
      "Collecting scipy\n",
      "  Downloading scipy-1.15.3-cp310-cp310-macosx_14_0_arm64.whl.metadata (61 kB)\n",
      "Requirement already satisfied: numpy<2.5,>=1.23.5 in ./lib/python3.10/site-packages (from scipy) (2.1.3)\n",
      "Downloading scipy-1.15.3-cp310-cp310-macosx_14_0_arm64.whl (22.4 MB)\n",
      "\u001b[2K   \u001b[90m━━━━━━━━━━━━━━━━━━━━━━━━━━━━━━━━━━━━━━━━\u001b[0m \u001b[32m22.4/22.4 MB\u001b[0m \u001b[31m5.0 MB/s\u001b[0m eta \u001b[36m0:00:00\u001b[0m00:01\u001b[0m00:01\u001b[0m\n",
      "\u001b[?25hInstalling collected packages: scipy\n",
      "Successfully installed scipy-1.15.3\n",
      "Note: you may need to restart the kernel to use updated packages.\n"
     ]
    }
   ],
   "source": [
    "%pip install torch\n",
    "%pip install torchvision\n",
    "%pip install scipy"
   ]
  },
  {
   "cell_type": "code",
   "execution_count": 26,
   "id": "2a52c8eb",
   "metadata": {},
   "outputs": [],
   "source": [
    "import torch #core PyTorch library\n",
    "import torch.nn as nn #neural networks\n",
    "import torch.optim as optim #optimization\n",
    "from torchvision import datasets, transforms  #datasets and transforms\n",
    "from torch.utils.data import DataLoader #Data Loader for data loading fuctions\n",
    "import scipy.io as sio"
   ]
  },
  {
   "cell_type": "markdown",
   "id": "d5846191",
   "metadata": {},
   "source": [
    "## Define Transformations"
   ]
  },
  {
   "cell_type": "code",
   "execution_count": 20,
   "id": "6707e381",
   "metadata": {},
   "outputs": [],
   "source": [
    "transform = transforms.Compose([\n",
    "    transforms.ToTensor(),  # Convert images to PyTorch tensors\n",
    "    transforms.Normalize((0.5, 0.5, 0.5), (0.5, 0.5, 0.5))  # Normalize images\n",
    "])"
   ]
  },
  {
   "cell_type": "markdown",
   "id": "4800c32b",
   "metadata": {},
   "source": [
    "## Load The Data"
   ]
  },
  {
   "cell_type": "code",
   "execution_count": null,
   "id": "f6bfaf9f",
   "metadata": {},
   "outputs": [],
   "source": [
    "train_data = datasets.CIFAR10(root='./data', train=True, download=True, transform=transform) #Train data download\n",
    "test_data = datasets.CIFAR10(root='./data', train=False, download=True, transform=transform) #Test data download"
   ]
  },
  {
   "cell_type": "code",
   "execution_count": 27,
   "id": "58e42ccd",
   "metadata": {},
   "outputs": [],
   "source": [
    "train_loader = DataLoader(dataset=train_data, batch_size=64, shuffle=True)\n",
    "test_loader = DataLoader(dataset=test_data, batch_size=64, shuffle=False)"
   ]
  },
  {
   "cell_type": "markdown",
   "id": "73dd4581",
   "metadata": {},
   "source": [
    "## Build Architecture"
   ]
  },
  {
   "cell_type": "code",
   "execution_count": null,
   "id": "fd4365e3",
   "metadata": {},
   "outputs": [
    {
     "name": "stdout",
     "output_type": "stream",
     "text": [
      "Epoch [1/10], Loss: 1.0812\n",
      "Epoch [2/10], Loss: 1.0835\n",
      "Epoch [3/10], Loss: 0.8544\n",
      "Epoch [4/10], Loss: 1.0373\n",
      "Epoch [5/10], Loss: 1.0033\n",
      "Epoch [6/10], Loss: 1.3131\n",
      "Epoch [7/10], Loss: 1.2481\n",
      "Epoch [8/10], Loss: 0.6233\n",
      "Epoch [9/10], Loss: 0.8981\n",
      "Epoch [10/10], Loss: 1.3348\n",
      "Accuracy of the model on the test images: 65.76%\n"
     ]
    }
   ],
   "source": [
    "class cnn_cifar(nn.Module):\n",
    "    def __init__(self):\n",
    "        super(cnn_cifar, self).__init__()\n",
    "        self.cnn1 = nn.Conv2d(3, 6, kernel_size=5) #Input channel is 3 for RGB images\n",
    "        self.cnn2 = nn.Conv2d(6, 16, kernel_size=5) #Output channel is 16\n",
    "        self.fc1 = nn.Linear(16 * 24 * 24, 120) # Fully connected layer, input size is 16*24*24 after pooling\n",
    "        self.fc2 = nn.Linear(120, 84) # Fully connected layer, input size is 120\n",
    "        self.fc3 = nn.Linear(84, 10)  # Output layer for 10 classes\n",
    "    \n",
    "    def forward(self, x):\n",
    "        x = torch.relu(self.cnn1(x)) #Activation function ReLU\n",
    "        x = torch.max_pool2d(x, kernel_size=2, stride=2) #Max pooling with kernel size of 2 and stride of 2\n",
    "        x = torch.relu(self.cnn2(x)) #Activation function ReLU\n",
    "        x = torch.max_pool2d(x, kernel_size=2, stride=2) #Max pooling with kernel size of 2 and stride of 2\n",
    "        x = x.view(-1, 16 * 24 * 24) #Flatten the tensor to feed into fully connected layers\n",
    "        x = torch.relu(self.fc1(x)) #Activation function ReLU\n",
    "        x = torch.relu(self.fc2(x)) #Activation function ReLU\n",
    "        x = self.fc3(x) #Output layer without activation function (softmax will be applied later)\n",
    "        return x\n",
    "model = cnn_cifar() #Instantiate the model\n",
    "criterion = nn.CrossEntropyLoss() #Loss function for multi-class classification\n",
    "optimizer = optim.Adam(model.parameters(), lr=0.001) #Optimizer with learning rate of 0.001\n",
    "num_epochs = 10 #Number of epochs for training\n",
    "for epoch in range(num_epochs):\n",
    "    model.train() #Set the model to training mode\n",
    "    for images, labels in train_loader:\n",
    "        optimizer.zero_grad() #Zero the gradients\n",
    "        outputs = model(images) #Forward pass\n",
    "        loss = criterion(outputs, labels) #Calculate loss\n",
    "        loss.backward() #Backward pass\n",
    "        optimizer.step() #Update weights\n",
    "    \n",
    "    print(f'Epoch [{epoch+1}/{num_epochs}], Loss: {loss.item():.4f}') #Print loss for each epoch\n",
    "model.eval() #Set the model to evaluation mode\n",
    "correct = 0\n",
    "total = 0\n",
    "with torch.no_grad(): #No need to calculate gradients during evaluation\n",
    "    for images, labels in test_loader:\n",
    "        outputs = model(images) #Forward pass\n",
    "        _, predicted = torch.max(outputs.data, 1) #Get the predicted class\n",
    "        total += labels.size(0) #Total number of images\n",
    "        correct += (predicted == labels).sum().item() #Count correct predictions\n",
    "accuracy = 100 * correct / total #Calculate accuracy\n",
    "print(f'Accuracy of the model on the test images: {accuracy:.2f}%')"
   ]
  },
  {
   "cell_type": "code",
   "execution_count": 30,
   "id": "8d3a5f24",
   "metadata": {},
   "outputs": [
    {
     "data": {
      "image/png": "[encoded data removed]",
      "text/plain": [
       "<Figure size 640x480 with 1 Axes>"
      ]
     },
     "metadata": {},
     "output_type": "display_data"
    }
   ],
   "source": [
    "# Plotting the model's accuracy\n",
    "import matplotlib.pyplot as plt\n",
    "epochs = list(range(1, num_epochs + 1))\n",
    "accuracies = [accuracy] * num_epochs  # Assuming accuracy is constant for simplicity\n",
    "plt.plot(epochs, accuracies, marker='o')\n",
    "plt.title('Model Accuracy Over Epochs')\n",
    "plt.xlabel('Epochs')\n",
    "plt.ylabel('Accuracy (%)')\n",
    "plt.xticks(epochs)\n",
    "plt.ylim(0, 100)\n",
    "plt.grid()\n",
    "plt.show()"
   ]
  }
 ],
 "metadata": {
  "kernelspec": {
   "display_name": "DL",
   "language": "python",
   "name": "python3"
  },
  "language_info": {
   "codemirror_mode": {
    "name": "ipython",
    "version": 3
   },
   "file_extension": ".py",
   "mimetype": "text/x-python",
   "name": "python",
   "nbconvert_exporter": "python",
   "pygments_lexer": "ipython3",
   "version": "3.10.18"
  }
 },
 "nbformat": 4,
 "nbformat_minor": 5
}
